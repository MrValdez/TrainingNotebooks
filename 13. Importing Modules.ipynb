{
 "cells": [
  {
   "cell_type": "markdown",
   "metadata": {},
   "source": [
    "# 13.1 Python's Import System\n",
    "\n",
    "Python has an import module that allows you to access code that is external, relative to your script. There are various ways of importing but the most common way is via the `import` statement. Python's import system can get deep and it's more than what we need but [the documentation](https://docs.python.org/3.5/reference/import.html) is a good source if you want to learn more.\n",
    "\n",
    "Now is a good time to make a distinction between packages and modules. To quote the documentation and reference:\n",
    "\n",
    "> You can think of packages as the directories on a file system and modules as files within directories, but don’t take this analogy too literally since packages and modules need not originate from the file system. For the purposes of this documentation, we’ll use this convenient analogy of directories and files. Like file system directories, packages are organized hierarchically, and packages may themselves contain subpackages, as well as regular modules.\n",
    "\n",
    "\n",
    "#### Pakcage\n",
    "\n",
    "> Python module which can contain submodules or recursively, subpackages. Technically, a package is a Python module with a `__path__` attribute.\n",
    "\n",
    "#### Module\n",
    "\n",
    "> An object that serves as an organizational unit of Python code. Modules have a namespace containing arbitrary Python objects. Modules are loaded into Python by the process of importing."
   ]
  },
  {
   "cell_type": "markdown",
   "metadata": {},
   "source": [
    "## 13.1.1 Modules\n",
    "\n",
    "While Python has many built-in modules, there are more 3rd party modules that you can use. You'll need to install or download them in order to use them.\n",
    "\n",
    "To import a module, just type `import module_name`.\n",
    "\n",
    "### 13.1.1.1 [os.path](https://docs.python.org/3.5/library/os.path.html#module-os.path)\n",
    "\n",
    "You'll be using [`os.path`](https://docs.python.org/3.5/library/os.path.html#module-os.path) a lot when referring to your files since hardcoded paths will prevent your code from being portable."
   ]
  },
  {
   "cell_type": "code",
   "execution_count": null,
   "metadata": {
    "collapsed": false
   },
   "outputs": [],
   "source": [
    "import os\n",
    "# help(os)"
   ]
  },
  {
   "cell_type": "code",
   "execution_count": null,
   "metadata": {
    "collapsed": false
   },
   "outputs": [],
   "source": [
    "os.path.abspath(__name__)"
   ]
  },
  {
   "cell_type": "code",
   "execution_count": null,
   "metadata": {
    "collapsed": false
   },
   "outputs": [],
   "source": [
    "os.path.dirname(os.path.abspath(__name__))"
   ]
  },
  {
   "cell_type": "markdown",
   "metadata": {},
   "source": [
    "#### [`__name__`](https://docs.python.org/3.5/tutorial/modules.html#modules)\n",
    "\n",
    "> Within a module, the module’s name (as a string) is available as the value of the global variable `__name__`.\n",
    "\n",
    "`__name__`, and all other variables surounded by double underlines, are special variables defined by Python.\n",
    "\n",
    "In our example, we imported `os` and used `os.path`. We can specifically import `path` without importing the whole of `os` by prefixing our import statement with `from`."
   ]
  },
  {
   "cell_type": "code",
   "execution_count": null,
   "metadata": {
    "collapsed": false
   },
   "outputs": [],
   "source": [
    "from os import path\n",
    "path.abspath(__name__)"
   ]
  },
  {
   "cell_type": "code",
   "execution_count": null,
   "metadata": {
    "collapsed": false
   },
   "outputs": [],
   "source": [
    "path.dirname(path.abspath(__name__))"
   ]
  },
  {
   "cell_type": "markdown",
   "metadata": {},
   "source": [
    "We can also import abspath and dirname directly from path."
   ]
  },
  {
   "cell_type": "code",
   "execution_count": null,
   "metadata": {
    "collapsed": false
   },
   "outputs": [],
   "source": [
    "from os.path import abspath, dirname\n",
    "abspath(__name__)"
   ]
  },
  {
   "cell_type": "code",
   "execution_count": null,
   "metadata": {
    "collapsed": false
   },
   "outputs": [],
   "source": [
    "dirname(abspath(__name__))"
   ]
  },
  {
   "cell_type": "markdown",
   "metadata": {},
   "source": [
    "`import` works with built-in and pip installed packages, modules as well as variables, functions and classes."
   ]
  },
  {
   "cell_type": "markdown",
   "metadata": {},
   "source": [
    "### 13.1.1.2 [os.environ](https://docs.python.org/3.5/library/os.html#os.environ)\n",
    "\n",
    "There may be times when you want to set or retrieve environment variables for use in your application. These may be values you don't want to hardcode in your script for security or other purposes. `os.environ` lets us work with environment variables."
   ]
  },
  {
   "cell_type": "code",
   "execution_count": null,
   "metadata": {
    "collapsed": false
   },
   "outputs": [],
   "source": [
    "from os import environ\n",
    "environ  # let's see our environemnt variables"
   ]
  },
  {
   "cell_type": "code",
   "execution_count": null,
   "metadata": {
    "collapsed": false
   },
   "outputs": [],
   "source": [
    "environ[\"NOTEBOOK_DIRECTORY\"]"
   ]
  },
  {
   "cell_type": "markdown",
   "metadata": {},
   "source": [
    "Let's try adding and deleting values to our environment variables."
   ]
  },
  {
   "cell_type": "code",
   "execution_count": null,
   "metadata": {
    "collapsed": false
   },
   "outputs": [],
   "source": [
    "environ.setdefault(\"NOTEBOOK_DIRECTORY\", os.path.dirname(os.path.abspath(__name__)))  # let's set a value"
   ]
  },
  {
   "cell_type": "code",
   "execution_count": null,
   "metadata": {
    "collapsed": false
   },
   "outputs": [],
   "source": [
    "environ[\"NOTEBOOK_DIRECTORY\"]"
   ]
  },
  {
   "cell_type": "code",
   "execution_count": null,
   "metadata": {
    "collapsed": false
   },
   "outputs": [],
   "source": [
    "environ.pop(\"NOTEBOOK_DIRECTORY\")"
   ]
  },
  {
   "cell_type": "code",
   "execution_count": null,
   "metadata": {
    "collapsed": false
   },
   "outputs": [],
   "source": [
    "environ[\"NOTEBOOK_DIRECTORY\"]"
   ]
  },
  {
   "cell_type": "markdown",
   "metadata": {},
   "source": [
    "`os.environ` returns a [mapping type](https://docs.python.org/3.5/glossary.html#term-mapping) object that works similar to a dictionary."
   ]
  },
  {
   "cell_type": "code",
   "execution_count": null,
   "metadata": {
    "collapsed": false
   },
   "outputs": [],
   "source": [
    "environ[\"NOTEBOOK\"] = os.path.dirname(os.path.abspath(__name__))"
   ]
  },
  {
   "cell_type": "code",
   "execution_count": null,
   "metadata": {
    "collapsed": false
   },
   "outputs": [],
   "source": [
    "environ[\"NOTEBOOK\"]"
   ]
  },
  {
   "cell_type": "code",
   "execution_count": null,
   "metadata": {
    "collapsed": true
   },
   "outputs": [],
   "source": [
    "del environ[\"NOTEBOOK\"]"
   ]
  },
  {
   "cell_type": "code",
   "execution_count": null,
   "metadata": {
    "collapsed": false
   },
   "outputs": [],
   "source": [
    "environ[\"NOTEBOOK\"]"
   ]
  },
  {
   "cell_type": "markdown",
   "metadata": {},
   "source": [
    "## 13.1.2 Packages\n",
    "\n",
    "It also works with local packages but there's one thing to add - the [`__init__.py`](https://docs.python.org/3.5/tutorial/modules.html#packages) file.\n",
    "\n",
    "> The `__init__.py` files are required to make Python treat the directories as containing packages; this is done to prevent directories with a common name, such as string, from unintentionally hiding valid modules that occur later on the module search path. In the simplest case, `__init__.py` can just be an empty file, but it can also execute initialization code for the package or...\n",
    "\n",
    "And to use this in code, the \"dotted name\" is used.\n",
    "\n",
    "![Folder image](./Images/folder.png)"
   ]
  },
  {
   "cell_type": "code",
   "execution_count": null,
   "metadata": {
    "collapsed": false
   },
   "outputs": [],
   "source": [
    "import folder"
   ]
  },
  {
   "cell_type": "code",
   "execution_count": null,
   "metadata": {
    "collapsed": true
   },
   "outputs": [],
   "source": [
    "from folder import module"
   ]
  },
  {
   "cell_type": "code",
   "execution_count": null,
   "metadata": {
    "collapsed": true
   },
   "outputs": [],
   "source": [
    "from folder.module import function"
   ]
  },
  {
   "cell_type": "code",
   "execution_count": null,
   "metadata": {
    "collapsed": false
   },
   "outputs": [],
   "source": [
    "from folder.module import Class"
   ]
  }
 ],
 "metadata": {
  "kernelspec": {
   "display_name": "Python 3",
   "language": "python",
   "name": "python3"
  },
  "language_info": {
   "codemirror_mode": {
    "name": "ipython",
    "version": 3
   },
   "file_extension": ".py",
   "mimetype": "text/x-python",
   "name": "python",
   "nbconvert_exporter": "python",
   "pygments_lexer": "ipython3",
   "version": "3.5.1"
  }
 },
 "nbformat": 4,
 "nbformat_minor": 0
}
