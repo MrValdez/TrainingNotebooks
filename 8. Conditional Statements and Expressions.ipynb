{
 "cells": [
  {
   "cell_type": "markdown",
   "metadata": {},
   "source": [
    "# 8.1 If... elif... else\n",
    "\n",
    "Python's [`if`](https://docs.python.org/3.5/reference/compound_stmts.html#if) keyword can be used as part of a statement or as part of an expression."
   ]
  },
  {
   "cell_type": "markdown",
   "metadata": {},
   "source": [
    "## 8.1.1 [Conditional statement](https://docs.python.org/3.5/tutorial/controlflow.html#if-statements):"
   ]
  },
  {
   "cell_type": "code",
   "execution_count": null,
   "metadata": {
    "collapsed": false
   },
   "outputs": [],
   "source": [
    "x = int(input(\"Please enter an integer: \"))\n",
    "\n",
    "if x < 0:\n",
    "    print('Less than zero')\n",
    "elif x == 0:\n",
    "    print('Zero')\n",
    "elif x == 1:\n",
    "    print('One')\n",
    "else:\n",
    "    print('More than one')\n",
    "\n",
    "print(\"x = \", x)"
   ]
  },
  {
   "cell_type": "markdown",
   "metadata": {},
   "source": [
    "This example uses `if` as a statement. For more than one condition, `elif` is used. `elif`, instead of \"else if\" is optional and can appear zero or as many times as needed."
   ]
  },
  {
   "cell_type": "markdown",
   "metadata": {},
   "source": [
    "## 8.1.2 [Conditional expression](https://docs.python.org/3.5/reference/expressions.html#conditional-expressions):"
   ]
  },
  {
   "cell_type": "code",
   "execution_count": null,
   "metadata": {
    "collapsed": false
   },
   "outputs": [],
   "source": [
    "cat = False\n",
    "print(\"Meow!\") if cat else print(\"Squeak!\")"
   ]
  },
  {
   "cell_type": "markdown",
   "metadata": {},
   "source": [
    "This syntax is more commonly known in other languages as a \"ternary operation\" (there's no `?` operator in this case)."
   ]
  },
  {
   "cell_type": "markdown",
   "metadata": {},
   "source": [
    "There are other places where you can find the `if` keyword but for now, it's enough to know how to incorporate conditional logic in your code."
   ]
  },
  {
   "cell_type": "markdown",
   "metadata": {},
   "source": [
    "## 8.2 [Truth Value Testing](https://docs.python.org/3.5/library/stdtypes.html#truth-value-testing)\n",
    "\n",
    "Be aware that when checking for value, Python's various types have values equivalent to False:"
   ]
  },
  {
   "cell_type": "markdown",
   "metadata": {},
   "source": [
    "> Any object can be tested for truth value, for use in an if or while condition or as operand of the Boolean operations below. The following values are considered false:\n",
    "\n",
    "> * None\n",
    "> * False\n",
    "> * zero of any numeric type, for example, 0, 0.0, 0j.\n",
    "> * any empty sequence, for example, '', (), [].\n",
    "> * any empty mapping, for example, {}.\n",
    "> * instances of user-defined classes, if the class defines a `__bool__`() or `__len__`() method, when that method returns the integer zero or bool value False.\n",
    "\n",
    "> All other values are considered true — so objects of many types are always true.\n",
    "\n",
    "> Operations and built-in functions that have a Boolean result always return 0 or False for false and 1 or True for true, unless otherwise stated. (Important exception: the Boolean operations or and and always return one of their operands.)"
   ]
  },
  {
   "cell_type": "markdown",
   "metadata": {},
   "source": [
    "Depending on your code, the following statements may have different effects:\n",
    "\n",
    "`if cat:`\n",
    "\n",
    "`if cat is not None:`\n",
    "\n",
    "The first one evalues as `False` when the value of cat is one of the values listed in the Truth Value Testing section above. If so, the indented block of code under `if cat:` will not happen.\n",
    "\n",
    "The second one compares against Python's constant `None`. For as long as the variable has a value and the value is not `None`, the statement will evaluate as `True` even if the value is 0, False, or empty iterables.\n",
    "\n",
    "Compare the code below to the previous one and see how the outcome differs."
   ]
  },
  {
   "cell_type": "code",
   "execution_count": null,
   "metadata": {
    "collapsed": false
   },
   "outputs": [],
   "source": [
    "cat = False\n",
    "print(\"Meow!\") if cat is not None else print(\"Squeak!\")"
   ]
  },
  {
   "cell_type": "markdown",
   "metadata": {},
   "source": [
    "## 8.3 `==` vs `is`, [`None`](https://docs.python.org/3.5/library/constants.html#None)\n",
    "\n",
    "`==` checks for value equality.\n",
    "\n",
    "`is` checks for reference equality.\n",
    "\n",
    "Python's `None` is a constant singleton. New instances can't be created. It is a type on it's own - `NoneType` and we can't modify it in any way, for example, by adding or changing attributes or by assigning a new value to `None`.\n",
    "\n",
    "Checking the reference to `None` using `is` works because there is always only one `None` instance."
   ]
  }
 ],
 "metadata": {
  "kernelspec": {
   "display_name": "Python 3",
   "language": "python",
   "name": "python3"
  },
  "language_info": {
   "codemirror_mode": {
    "name": "ipython",
    "version": 3
   },
   "file_extension": ".py",
   "mimetype": "text/x-python",
   "name": "python",
   "nbconvert_exporter": "python",
   "pygments_lexer": "ipython3",
   "version": "3.5.1"
  }
 },
 "nbformat": 4,
 "nbformat_minor": 0
}
