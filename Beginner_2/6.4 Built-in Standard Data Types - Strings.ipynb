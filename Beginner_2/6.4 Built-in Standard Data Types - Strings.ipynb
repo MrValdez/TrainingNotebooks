{
 "cells": [
  {
   "cell_type": "markdown",
   "metadata": {},
   "source": [
    "# 6.4 Strings \n",
    "\n",
    "Strings store characters and have many built-in convenience methods that let you modify their content. Strings are immutable, meaning they cannot be changed in place."
   ]
  },
  {
   "cell_type": "markdown",
   "metadata": {},
   "source": [
    "## 6.4.1 Quotations\n",
    "\n",
    "Strings are amongst the most popular types in Python. We can create them simply by enclosing characters in quotes. Python treats single quotes the same as double quotes.\n",
    "\n",
    "Creating strings is as simple as assigning a value to a variable:"
   ]
  },
  {
   "cell_type": "code",
   "execution_count": null,
   "metadata": {
    "collapsed": true
   },
   "outputs": [],
   "source": [
    "my_string1 = 'Hello, World!'\n",
    "my_string2 = \"Hello, World!\""
   ]
  },
  {
   "cell_type": "markdown",
   "metadata": {},
   "source": [
    "One advantage of using double quotes is that, you don't have to worry about printing with apostrophes:"
   ]
  },
  {
   "cell_type": "code",
   "execution_count": null,
   "metadata": {
    "collapsed": false
   },
   "outputs": [],
   "source": [
    "string_sample1 = \"Tell me why, ain't nothin' but a heartbreak.\"\n",
    "\n",
    "print(string_sample1)"
   ]
  },
  {
   "cell_type": "markdown",
   "metadata": {},
   "source": [
    "This is the same example using single quotes:"
   ]
  },
  {
   "cell_type": "code",
   "execution_count": null,
   "metadata": {
    "collapsed": false
   },
   "outputs": [],
   "source": [
    "string_sample2 = 'Tell me why, ain\\'t nothin\\' but a heartbreak.'\n",
    "\n",
    "print(string_sample2)"
   ]
  },
  {
   "cell_type": "markdown",
   "metadata": {},
   "source": [
    "You may escape the apostrophe (<b> ' </b>) using a backslash (<b> \\ </b>) as seen on the example above. "
   ]
  },
  {
   "cell_type": "markdown",
   "metadata": {},
   "source": [
    "    "
   ]
  },
  {
   "cell_type": "markdown",
   "metadata": {},
   "source": [
    "## 6.4.2 Escape characters\n",
    "\n",
    "This <b>`\\`</b> (backslash) character, as seen on the previous example, is used to escape characters that otherwise have a special meaning, such as newline, backslash itself, or the quote character.\n",
    "\n",
    "An important escape sequence is to escape a single-quote <b>`'`</b> or double-quote <b>`\"`</b>. Imagine you have a string that uses double-quotes and you want to put a double-quote inside the string.\n",
    "\n",
    "To solve this problem you escape double-quotes and single-quotes so Python knows to include in the string. For example:"
   ]
  },
  {
   "cell_type": "code",
   "execution_count": null,
   "metadata": {
    "collapsed": false
   },
   "outputs": [],
   "source": [
    "escape_1 = \"I am 6'2\\\" tall.\" # escape double-quote inside string\n",
    "escape_2 = 'I am 6\\'2\" tall.' # escape single-quote inside string\n",
    "\n",
    "# Now to check the results! Run the code.\n",
    "\n",
    "print(escape_1)\n",
    "print(escape_2)"
   ]
  },
  {
   "cell_type": "markdown",
   "metadata": {},
   "source": [
    "#### Escape Sequences\n",
    "\n",
    "These are the escape sequences Python supports:\n",
    "\n",
    "![Beginner_2](./images/img_escape_characters.png)"
   ]
  },
  {
   "cell_type": "markdown",
   "metadata": {},
   "source": [
    "Here are some examples. Run the code to see the result:"
   ]
  },
  {
   "cell_type": "code",
   "execution_count": null,
   "metadata": {
    "collapsed": false
   },
   "outputs": [],
   "source": [
    "# Tab\n",
    "\n",
    "tabby_cat = \"\\tI'm tabbed in.\"\n",
    "print(tabby_cat)"
   ]
  },
  {
   "cell_type": "code",
   "execution_count": null,
   "metadata": {
    "collapsed": false
   },
   "outputs": [],
   "source": [
    "# Split\n",
    "\n",
    "persian_cat = \"I'm split\\non a line.\"\n",
    "print(persian_cat)"
   ]
  },
  {
   "cell_type": "code",
   "execution_count": null,
   "metadata": {
    "collapsed": false
   },
   "outputs": [],
   "source": [
    "# Backslash\n",
    "backslash_cat = \"I'm \\\\ a \\\\ cat.\"\n",
    "\n",
    "print(backslash_cat)"
   ]
  },
  {
   "cell_type": "code",
   "execution_count": null,
   "metadata": {
    "collapsed": false
   },
   "outputs": [],
   "source": [
    "# List\n",
    "\n",
    "fat_cat = \"\"\"\n",
    "I'll do a list:\n",
    "\\t* Cat food\n",
    "\\t* Fishies\n",
    "\\t* Catnip\\n\\t* Grass\n",
    "\"\"\"\n",
    "\n",
    "print(fat_cat)"
   ]
  },
  {
   "cell_type": "markdown",
   "metadata": {},
   "source": [
    "## 6.4.3 Methods \n",
    "\n",
    "#### a. `.upper( )` and `.lower( )` \n",
    "The .upper() and .lower() string methods are self-explanatory. Performing the .upper() method on a string converts all of the characters to uppercase, whereas the lower() method converts all of the characters to lowercase.\n",
    "\n",
    "For example: "
   ]
  },
  {
   "cell_type": "code",
   "execution_count": null,
   "metadata": {
    "collapsed": false
   },
   "outputs": [],
   "source": [
    "# using .upper()\n",
    "my_string1 = \"hello, world!\"\n",
    "\n",
    "print(my_string1.upper())"
   ]
  },
  {
   "cell_type": "code",
   "execution_count": null,
   "metadata": {
    "collapsed": false
   },
   "outputs": [],
   "source": [
    "# using .lower()\n",
    "\n",
    "my_string2 = \"Hello, World!\"\n",
    "my_string3 = \"HI, PYTHON!\"\n",
    "\n",
    "print(my_string2.lower())\n",
    "print(my_string2.lower())"
   ]
  },
  {
   "cell_type": "markdown",
   "metadata": {},
   "source": [
    "    "
   ]
  },
  {
   "cell_type": "markdown",
   "metadata": {},
   "source": [
    "#### b. `.count()`\n",
    "\n",
    "The <b>`.count()`</b> method adds up the number of times a character or sequence of characters appears in a string.\n",
    "\n",
    "For example:"
   ]
  },
  {
   "cell_type": "code",
   "execution_count": null,
   "metadata": {
    "collapsed": false
   },
   "outputs": [],
   "source": [
    "my_string4 = \"Oscar loves to google words that start with o's\"\n",
    "my_string4.count(\"o\") "
   ]
  },
  {
   "cell_type": "markdown",
   "metadata": {},
   "source": [
    "On the example above, it didn't count the 'O' in Oscar, because it is in case sensitive, Meaning 'O' is different from 'o'."
   ]
  },
  {
   "cell_type": "markdown",
   "metadata": {},
   "source": [
    "    "
   ]
  },
  {
   "cell_type": "markdown",
   "metadata": {},
   "source": [
    "#### c. `.find()`\n",
    "\n",
    "We use <b>`.find()`</b> to search for a specific character/s in a string.\n",
    "\n",
    "For example:"
   ]
  },
  {
   "cell_type": "code",
   "execution_count": null,
   "metadata": {
    "collapsed": false
   },
   "outputs": [],
   "source": [
    "# Run the code\n",
    "\n",
    "my_string5 = \"On the other hand, Python is a great language.\"\n",
    "my_string5.find(\"hand\")"
   ]
  },
  {
   "cell_type": "markdown",
   "metadata": {},
   "source": [
    "The results tell us that “hand” begins at the 13th position in the sequence."
   ]
  },
  {
   "cell_type": "markdown",
   "metadata": {},
   "source": [
    "    "
   ]
  },
  {
   "cell_type": "markdown",
   "metadata": {},
   "source": [
    "#### d. `.replace()`\n",
    "\n",
    "The method <b>`replace()`</b> returns a copy of the string in which the occurrences of old have been replaced with new, optionally restricting the number of replacements to max. \n",
    "\n",
    "##### Syntax:\n",
    "`str.replace(old, new[, max])`\n",
    "\n",
    "##### Parameters:\n",
    "- old -- This is old substring to be replaced.\n",
    "\n",
    "- new -- This is new substring, which would replace old substring.\n",
    "\n",
    "- max -- If this optional argument max is given, only the first count occurrences are replaced.\n",
    "\n",
    "##### Return Value:\n",
    "This method returns a copy of the string with all occurrences of substring old replaced by new. If the optional argument max is given, only the first count occurrences are replaced.\n",
    "\n",
    "For example:"
   ]
  },
  {
   "cell_type": "code",
   "execution_count": null,
   "metadata": {
    "collapsed": false
   },
   "outputs": [],
   "source": [
    "str = \"this is string example....wow!!! this is really string\";\n",
    "print(str.replace(\"wow\", \"amazing\"))"
   ]
  },
  {
   "cell_type": "markdown",
   "metadata": {},
   "source": [
    "  "
   ]
  },
  {
   "cell_type": "markdown",
   "metadata": {},
   "source": [
    "## 6.4.3 String Formatting \n",
    "\n",
    "The string format operator is unique to strings and makes up for the pack of having functions from C's printf() family. Following is a simple example −"
   ]
  },
  {
   "cell_type": "markdown",
   "metadata": {},
   "source": [
    "![Beginner_2](./images/img_string_formatting.png)"
   ]
  }
 ],
 "metadata": {
  "kernelspec": {
   "display_name": "Python 3",
   "language": "python",
   "name": "python3"
  },
  "language_info": {
   "codemirror_mode": {
    "name": "ipython",
    "version": 3
   },
   "file_extension": ".py",
   "mimetype": "text/x-python",
   "name": "python",
   "nbconvert_exporter": "python",
   "pygments_lexer": "ipython3",
   "version": "3.5.1"
  }
 },
 "nbformat": 4,
 "nbformat_minor": 0
}
