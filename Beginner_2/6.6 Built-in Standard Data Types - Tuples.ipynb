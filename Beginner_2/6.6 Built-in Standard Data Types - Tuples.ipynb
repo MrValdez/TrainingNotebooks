{
 "cells": [
  {
   "cell_type": "markdown",
   "metadata": {},
   "source": [
    "# 6.6 Tuples\n",
    "\n",
    "A tuple is a sequence of immutable Python objects. Tuples are sequences, just like lists. The differences between tuples and lists are, the tuples cannot be changed unlike lists and tuples use parentheses, whereas lists use square brackets.\n",
    "\n",
    "Tuple is a Python data type that holds an ordered collection of values, which can be of any type. \n",
    "\n",
    "Tuples can be expanded into variables easily. In assigning values, you may also ommit the paretheses. See examples below:"
   ]
  },
  {
   "cell_type": "code",
   "execution_count": null,
   "metadata": {
    "collapsed": false
   },
   "outputs": [],
   "source": [
    "tuple1 = ('apple', 'banana', 2012, 1993)\n",
    "tuple2 = (1, 2, 3, 4, 5 )\n",
    "tuple3 = \"a\", \"b\", \"c\", \"d\""
   ]
  },
  {
   "cell_type": "markdown",
   "metadata": {},
   "source": [
    "You may also create an empty tuple:"
   ]
  },
  {
   "cell_type": "code",
   "execution_count": null,
   "metadata": {
    "collapsed": true
   },
   "outputs": [],
   "source": [
    "tuple1 = ()"
   ]
  },
  {
   "cell_type": "markdown",
   "metadata": {},
   "source": [
    "To write a tuple containing a single value you have to include a comma, even though there is only one value "
   ]
  },
  {
   "cell_type": "code",
   "execution_count": null,
   "metadata": {
    "collapsed": true
   },
   "outputs": [],
   "source": [
    "tuple1 = (50,)"
   ]
  },
  {
   "cell_type": "markdown",
   "metadata": {},
   "source": [
    "Like string indices, tuple indices start at 0, and they can be sliced, concatenated, and so on."
   ]
  },
  {
   "cell_type": "markdown",
   "metadata": {},
   "source": [
    "## 6.6.1 Accessing values in a tuple\n",
    "\n",
    "To access values in tuple, use the square brackets for slicing along with the index or indices to obtain value available at that index (This is similar in accessing lists):"
   ]
  },
  {
   "cell_type": "code",
   "execution_count": null,
   "metadata": {
    "collapsed": false
   },
   "outputs": [],
   "source": [
    "tuple1 = ('P','y','t','h','o','n')\n",
    "\n",
    "tuple1[0]"
   ]
  },
  {
   "cell_type": "code",
   "execution_count": null,
   "metadata": {
    "collapsed": false
   },
   "outputs": [],
   "source": [
    "tuple1 = ('P','y','t','h','o','n')\n",
    "\n",
    "tuple1[0:3]"
   ]
  }
 ],
 "metadata": {
  "kernelspec": {
   "display_name": "Python 3",
   "language": "python",
   "name": "python3"
  },
  "language_info": {
   "codemirror_mode": {
    "name": "ipython",
    "version": 3
   },
   "file_extension": ".py",
   "mimetype": "text/x-python",
   "name": "python",
   "nbconvert_exporter": "python",
   "pygments_lexer": "ipython3",
   "version": "3.5.1"
  }
 },
 "nbformat": 4,
 "nbformat_minor": 0
}
