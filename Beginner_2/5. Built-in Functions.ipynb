{
 "cells": [
  {
   "cell_type": "markdown",
   "metadata": {},
   "source": [
    "# 5.1 [input()](https://docs.python.org/3.5/library/functions.html#input)\n",
    "\n",
    "input([prompt])\n",
    "\n",
    "If the prompt argument is present, it is written to standard output without a trailing newline. The function then reads a line from input, converts it to a string (stripping a trailing newline), and returns that. When EOF is read, EOFError is raised.\n",
    "\n",
    "Example:"
   ]
  },
  {
   "cell_type": "code",
   "execution_count": null,
   "metadata": {
    "collapsed": true
   },
   "outputs": [],
   "source": [
    ">>> s = input('--> ')  \n",
    "--> Monty Python's Flying Circus\n",
    ">>> s  \n",
    "\"Monty Python's Flying Circus\""
   ]
  },
  {
   "cell_type": "markdown",
   "metadata": {},
   "source": [
    "If the readline module was loaded, then input() will use it to provide elaborate line editing and history features."
   ]
  },
  {
   "cell_type": "markdown",
   "metadata": {},
   "source": [
    "  "
   ]
  },
  {
   "cell_type": "markdown",
   "metadata": {},
   "source": [
    "# 5.2 [print()](https://docs.python.org/3.5/library/functions.html#print)\n",
    "\n",
    "The print function can print an arbitrary number of values (\"value1, value2, ...\"), which are separated by commas. These values are separated by blanks.\n",
    "\n",
    "\n",
    "In the following example we can see two print calls. We are printing two values in both cases, i.e. a string and a float number.\n",
    "\n",
    "Example:"
   ]
  },
  {
   "cell_type": "code",
   "execution_count": 6,
   "metadata": {
    "collapsed": false
   },
   "outputs": [],
   "source": [
    "a = 3.564\n",
    "\n",
    "print(\"a = \", a)\n",
    "print(\"a = \\n\", a)"
   ]
  },
  {
   "cell_type": "markdown",
   "metadata": {},
   "source": [
    "We can learn from the second print of the example that a blank between two values, i.e. \"a = \\textbackslash n\" and \"3.564\", is always printed, even if the output is continued in the following line. This is different to Python 2, as there will be no blank printed, if a new line has been started. It's possible to redefine the sepeerator between values by assigning an arbitrary string to the keyword parameter \"sep\", e.e. an empty string or a smiley:"
   ]
  },
  {
   "cell_type": "code",
   "execution_count": null,
   "metadata": {
    "collapsed": false
   },
   "outputs": [],
   "source": [
    "print(\"a\",\"b\")\n",
    "\n",
    "print(\"a\",\"b\",sep=\"\")\n",
    "\n",
    "print(192,168,178,42,sep=\".\")\n",
    "\n",
    "print(\"a\",\"b\",sep=\":-)\") "
   ]
  },
  {
   "cell_type": "markdown",
   "metadata": {},
   "source": [
    "A print call is ended by a newline:"
   ]
  },
  {
   "cell_type": "code",
   "execution_count": null,
   "metadata": {
    "collapsed": false
   },
   "outputs": [],
   "source": [
    "for i in range(4):\n",
    "    print(i)"
   ]
  },
  {
   "cell_type": "markdown",
   "metadata": {},
   "source": [
    "To change this behaviour, we can assign an arbitrary string to the keyword parameter \"end\". This string will be used for ending the output of the values of a print call:"
   ]
  },
  {
   "cell_type": "code",
   "execution_count": null,
   "metadata": {
    "collapsed": false
   },
   "outputs": [],
   "source": [
    "for i in range(4):\n",
    "    print(i, end=\" \")"
   ]
  },
  {
   "cell_type": "code",
   "execution_count": null,
   "metadata": {
    "collapsed": false
   },
   "outputs": [],
   "source": [
    "for i in range(4):\n",
    "    print(i, end=\" :-) \")"
   ]
  },
  {
   "cell_type": "markdown",
   "metadata": {},
   "source": [
    "    "
   ]
  },
  {
   "cell_type": "markdown",
   "metadata": {},
   "source": [
    "    "
   ]
  },
  {
   "cell_type": "markdown",
   "metadata": {},
   "source": [
    "# 5.3 [type()](https://docs.python.org/3.5/library/functions.html#type)\n",
    "\n",
    "This returns the type of an object.\n",
    "\n",
    "For example:\n"
   ]
  },
  {
   "cell_type": "code",
   "execution_count": 12,
   "metadata": {
    "collapsed": false
   },
   "outputs": [],
   "source": [
    "var1 = \"Hello\"\n",
    "var2 = 13\n",
    "\n",
    "print(type(var1))\n",
    "print(type(var2))"
   ]
  },
  {
   "cell_type": "markdown",
   "metadata": {},
   "source": [
    "    "
   ]
  },
  {
   "cell_type": "markdown",
   "metadata": {},
   "source": [
    "   "
   ]
  },
  {
   "cell_type": "markdown",
   "metadata": {},
   "source": [
    "# 5.5 Casting\n",
    "\n",
    "Sometimes, you may need to perform conversions between the built-in types. To convert between types, you simply use the type name as a function. <b>Casting</b> is when you convert a variable value from one type to another. \n",
    "\n",
    "There are several built-in functions to perform conversion from one data type to another. These functions return a new object representing the converted value.\n",
    "\n",
    "#### 5.5.1 Converting String into a Proper Number"
   ]
  },
  {
   "cell_type": "code",
   "execution_count": 15,
   "metadata": {
    "collapsed": false
   },
   "outputs": [],
   "source": [
    "x = \"100\"\n",
    "\n",
    "print(type(x)) #Run the code"
   ]
  },
  {
   "cell_type": "markdown",
   "metadata": {},
   "source": [
    "On the example above, we just printed the type of variable `x` which resulted to a string. To convert a string into an integer:"
   ]
  },
  {
   "cell_type": "code",
   "execution_count": 18,
   "metadata": {
    "collapsed": false
   },
   "outputs": [],
   "source": [
    "x = \"100\"\n",
    "\n",
    "y = int(x) # We used the int() function to convert \"100\" which is a string into an integer.\n",
    "\n",
    "print(type(y))"
   ]
  },
  {
   "cell_type": "markdown",
   "metadata": {},
   "source": [
    "    "
   ]
  },
  {
   "cell_type": "markdown",
   "metadata": {},
   "source": [
    "There's also another very common one which is `float()`:"
   ]
  },
  {
   "cell_type": "code",
   "execution_count": null,
   "metadata": {
    "collapsed": false
   },
   "outputs": [],
   "source": [
    "x = \"100\"\n",
    "\n",
    "y = float(x) # We used the int() function to convert \"100\" which is a string into a float.\n",
    "\n",
    "print(type(y))"
   ]
  },
  {
   "cell_type": "markdown",
   "metadata": {},
   "source": [
    "See more examples here: "
   ]
  },
  {
   "cell_type": "markdown",
   "metadata": {},
   "source": [
    "![Beginner_2](./images/img_datatype_conversion_1.png)\n",
    "![Beginner_2](./images/img_datatype_conversion_2.png)"
   ]
  }
 ],
 "metadata": {
  "kernelspec": {
   "display_name": "Python 3",
   "language": "python",
   "name": "python3"
  },
  "language_info": {
   "codemirror_mode": {
    "name": "ipython",
    "version": 3
   },
   "file_extension": ".py",
   "mimetype": "text/x-python",
   "name": "python",
   "nbconvert_exporter": "python",
   "pygments_lexer": "ipython3",
   "version": "3.5.1"
  }
 },
 "nbformat": 4,
 "nbformat_minor": 0
}
