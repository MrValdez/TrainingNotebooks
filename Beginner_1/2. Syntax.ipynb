{
 "cells": [
  {
   "cell_type": "markdown",
   "metadata": {},
   "source": [
    "# Overview Syntax"
   ]
  },
  {
   "cell_type": "markdown",
   "metadata": {},
   "source": [
    "## Whitespace"
   ]
  },
  {
   "cell_type": "markdown",
   "metadata": {},
   "source": [
    "Avoid whitespaces in the following situations:\n",
    "\n",
    "- Immediately inside the parentheses, brackets, or braces\n",
    "  \n",
    "      Yes: spam(ham[1], {eggs: 2}) \n",
    "  \n",
    "      No:  spam( ham[ 1 ], { eggs: 2 } )\n",
    "  \n",
    "\n",
    "  \n",
    "- Immediately before a comma, semicolon, or colon:\n",
    "\n",
    "      Yes: if x == 4: print x, y; x, y = y, x\n",
    "  \n",
    "      No:  if x == 4 : print x , y ; x , y = y , x\n",
    "  \n",
    "\n",
    " - Immediately before the open parenthesis that starts an indexing or slicing. \n",
    "  \n",
    "      Yes: dct['key'] = lst[index]\n",
    "  \n",
    "      No:  dct ['key'] = lst [index]\n",
    "\n",
    "\n",
    "- More than once space around an assignment(or other) operator to align  it with another.\n",
    "  \n",
    "      Yes: \n",
    "           x = 1\n",
    "           y = 2\n",
    "           long_variable = 3\n",
    "    \n",
    "      No:\n",
    "          x             = 1\n",
    "          y             = 2\n",
    "          long_variable = 3\n",
    "      \n",
    "For other rules, please click [here](https://docs.python.org/3/reference/lexical_analysis.html)\n"
   ]
  },
  {
   "cell_type": "markdown",
   "metadata": {},
   "source": [
    "\n",
    "\n",
    "\n",
    "\n",
    "\n",
    "## Indentation"
   ]
  },
  {
   "cell_type": "markdown",
   "metadata": {},
   "source": [
    "- Python provides no braces to indicate blocks of code for class and function definitions or flow control.\n",
    "- Blocks of code are denoted by line indentation.\n",
    "- Use 4 spaces per indentation level.\n",
    "\n",
    "Example:"
   ]
  },
  {
   "cell_type": "code",
   "execution_count": null,
   "metadata": {
    "collapsed": true
   },
   "outputs": [],
   "source": [
    "if True:\n",
    "    print \"True\"\n",
    "else:\n",
    "    print \"False\""
   ]
  },
  {
   "cell_type": "markdown",
   "metadata": {},
   "source": [
    "## Comments"
   ]
  },
  {
   "cell_type": "code",
   "execution_count": null,
   "metadata": {
    "collapsed": true
   },
   "outputs": [],
   "source": [
    "# This is a single line comment\n",
    "\n",
    "'''\n",
    "This \n",
    "is \n",
    "a\n",
    "multi-line \n",
    "comment\n",
    "'''\n",
    "\n",
    "\"\"\"\n",
    "This is also \n",
    "a multi-line\n",
    "comment\n",
    "\"\"\""
   ]
  },
  {
   "cell_type": "markdown",
   "metadata": {},
   "source": [
    "## Single-line Statements"
   ]
  },
  {
   "cell_type": "code",
   "execution_count": 1,
   "metadata": {
    "collapsed": true
   },
   "outputs": [],
   "source": [
    "my_list = ['item1', 'item2', 'item3']"
   ]
  },
  {
   "cell_type": "markdown",
   "metadata": {},
   "source": [
    " \n",
    " \n",
    " \n",
    " \n",
    " \n",
    " \n",
    " \n",
    " "
   ]
  },
  {
   "cell_type": "markdown",
   "metadata": {},
   "source": [
    " "
   ]
  },
  {
   "cell_type": "markdown",
   "metadata": {},
   "source": [
    "## Multi-line Statements"
   ]
  },
  {
   "cell_type": "markdown",
   "metadata": {},
   "source": [
    "Python allow the use of the line continuation character (\\) to denote that the line should continue.\n",
    "\n",
    "Example:"
   ]
  },
  {
   "cell_type": "code",
   "execution_count": 6,
   "metadata": {
    "collapsed": false
   },
   "outputs": [],
   "source": [
    "total = item_one + \\\n",
    "        item_two + \\\n",
    "        item_three"
   ]
  },
  {
   "cell_type": "markdown",
   "metadata": {},
   "source": [
    "\n",
    "Statements contained within the [], {}, or () brackets do not need to use the line continuation character.\n",
    "\n",
    "Example:"
   ]
  },
  {
   "cell_type": "code",
   "execution_count": null,
   "metadata": {
    "collapsed": true
   },
   "outputs": [],
   "source": [
    "my_list = [\n",
    "    'item1',    \n",
    "    'item2',\n",
    "]"
   ]
  },
  {
   "cell_type": "markdown",
   "metadata": {},
   "source": [
    "## Pep 8"
   ]
  },
  {
   "cell_type": "markdown",
   "metadata": {},
   "source": [
    "A Style-guide for Python code.\n",
    "\n",
    "Please check this [link](https://www.python.org/dev/peps/pep-0008/)\n"
   ]
  }
 ],
 "metadata": {
  "kernelspec": {
   "display_name": "Python 3",
   "language": "python",
   "name": "python3"
  },
  "language_info": {
   "codemirror_mode": {
    "name": "ipython",
    "version": 3
   },
   "file_extension": ".py",
   "mimetype": "text/x-python",
   "name": "python",
   "nbconvert_exporter": "python",
   "pygments_lexer": "ipython3",
   "version": "3.5.1"
  }
 },
 "nbformat": 4,
 "nbformat_minor": 0
}
